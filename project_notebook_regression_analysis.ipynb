{
 "cells": [
  {
   "cell_type": "markdown",
   "metadata": {},
   "source": [
    "# Linear regression"
   ]
  },
  {
   "cell_type": "code",
   "execution_count": 19,
   "metadata": {},
   "outputs": [],
   "source": [
    "Import all the modules you will need in this notebook here:"
   ]
  },
  {
   "cell_type": "code",
   "execution_count": 20,
   "metadata": {},
   "outputs": [],
   "source": [
    "# exercise 0\n",
    "# Put your solution here!\n",
    "import pandas as pd\n",
    "import numpy as np\n",
    "import statsmodels\n",
    "import statsmodels.api as sm\n",
    "import statsmodels.formula.api as smf\n",
    "import matplotlib.pyplot as plt\n",
    "from statsmodels.graphics.regressionplots import abline_plot\n"
   ]
  },
  {
   "cell_type": "markdown",
   "metadata": {},
   "source": [
    "We continue analysing the `fram` heart disease data.\n",
    "\n",
    "First load the data, use the name `fram` for the DataFrame variable. Make sure that in the data you loaded the column and row headers are in place. Checkout the summary of the variables using the `describe` method."
   ]
  },
  {
   "cell_type": "code",
   "execution_count": 21,
   "metadata": {},
   "outputs": [
    {
     "data": {
      "text/html": [
       "<div>\n",
       "<style scoped>\n",
       "    .dataframe tbody tr th:only-of-type {\n",
       "        vertical-align: middle;\n",
       "    }\n",
       "\n",
       "    .dataframe tbody tr th {\n",
       "        vertical-align: top;\n",
       "    }\n",
       "\n",
       "    .dataframe thead th {\n",
       "        text-align: right;\n",
       "    }\n",
       "</style>\n",
       "<table border=\"1\" class=\"dataframe\">\n",
       "  <thead>\n",
       "    <tr style=\"text-align: right;\">\n",
       "      <th></th>\n",
       "      <th>ID</th>\n",
       "      <th>SEX</th>\n",
       "      <th>AGE</th>\n",
       "      <th>FRW</th>\n",
       "      <th>SBP</th>\n",
       "      <th>SBP10</th>\n",
       "      <th>DBP</th>\n",
       "      <th>CHOL</th>\n",
       "      <th>CIG</th>\n",
       "      <th>CHD</th>\n",
       "      <th>YRS_CHD</th>\n",
       "      <th>DEATH</th>\n",
       "      <th>YRS_DTH</th>\n",
       "      <th>CAUSE</th>\n",
       "    </tr>\n",
       "  </thead>\n",
       "  <tbody>\n",
       "    <tr>\n",
       "      <th>0</th>\n",
       "      <td>4988</td>\n",
       "      <td>female</td>\n",
       "      <td>57</td>\n",
       "      <td>135</td>\n",
       "      <td>186</td>\n",
       "      <td>NaN</td>\n",
       "      <td>120</td>\n",
       "      <td>150</td>\n",
       "      <td>0</td>\n",
       "      <td>1</td>\n",
       "      <td>pre</td>\n",
       "      <td>7</td>\n",
       "      <td>11</td>\n",
       "      <td>unknown</td>\n",
       "    </tr>\n",
       "    <tr>\n",
       "      <th>1</th>\n",
       "      <td>3001</td>\n",
       "      <td>female</td>\n",
       "      <td>60</td>\n",
       "      <td>123</td>\n",
       "      <td>165</td>\n",
       "      <td>NaN</td>\n",
       "      <td>100</td>\n",
       "      <td>167</td>\n",
       "      <td>25</td>\n",
       "      <td>0</td>\n",
       "      <td>16</td>\n",
       "      <td>10</td>\n",
       "      <td>17</td>\n",
       "      <td>unknown</td>\n",
       "    </tr>\n",
       "    <tr>\n",
       "      <th>2</th>\n",
       "      <td>5079</td>\n",
       "      <td>female</td>\n",
       "      <td>54</td>\n",
       "      <td>115</td>\n",
       "      <td>140</td>\n",
       "      <td>NaN</td>\n",
       "      <td>90</td>\n",
       "      <td>213</td>\n",
       "      <td>5</td>\n",
       "      <td>0</td>\n",
       "      <td>8</td>\n",
       "      <td>8</td>\n",
       "      <td>13</td>\n",
       "      <td>unknown</td>\n",
       "    </tr>\n",
       "    <tr>\n",
       "      <th>3</th>\n",
       "      <td>5162</td>\n",
       "      <td>female</td>\n",
       "      <td>52</td>\n",
       "      <td>102</td>\n",
       "      <td>170</td>\n",
       "      <td>NaN</td>\n",
       "      <td>104</td>\n",
       "      <td>280</td>\n",
       "      <td>15</td>\n",
       "      <td>0</td>\n",
       "      <td>10</td>\n",
       "      <td>7</td>\n",
       "      <td>11</td>\n",
       "      <td>unknown</td>\n",
       "    </tr>\n",
       "    <tr>\n",
       "      <th>4</th>\n",
       "      <td>4672</td>\n",
       "      <td>female</td>\n",
       "      <td>45</td>\n",
       "      <td>99</td>\n",
       "      <td>185</td>\n",
       "      <td>NaN</td>\n",
       "      <td>105</td>\n",
       "      <td>326</td>\n",
       "      <td>20</td>\n",
       "      <td>0</td>\n",
       "      <td>8</td>\n",
       "      <td>10</td>\n",
       "      <td>17</td>\n",
       "      <td>unknown</td>\n",
       "    </tr>\n",
       "  </tbody>\n",
       "</table>\n",
       "</div>"
      ],
      "text/plain": [
       "     ID     SEX  AGE  FRW  SBP  SBP10  DBP  CHOL  CIG  CHD YRS_CHD  DEATH  \\\n",
       "0  4988  female   57  135  186    NaN  120   150    0    1     pre      7   \n",
       "1  3001  female   60  123  165    NaN  100   167   25    0      16     10   \n",
       "2  5079  female   54  115  140    NaN   90   213    5    0       8      8   \n",
       "3  5162  female   52  102  170    NaN  104   280   15    0      10      7   \n",
       "4  4672  female   45   99  185    NaN  105   326   20    0       8     10   \n",
       "\n",
       "   YRS_DTH    CAUSE  \n",
       "0       11  unknown  \n",
       "1       17  unknown  \n",
       "2       13  unknown  \n",
       "3       11  unknown  \n",
       "4       17  unknown  "
      ]
     },
     "execution_count": 21,
     "metadata": {},
     "output_type": "execute_result"
    }
   ],
   "source": [
    "# exercise 1\n",
    "def get_path(filename):\n",
    "    import sys\n",
    "    import os\n",
    "    prog_name = sys.argv[0]\n",
    "    if os.path.basename(prog_name) == \"__main__.py\":   # Running under TMC\n",
    "        return os.path.join(os.path.dirname(prog_name), \"..\", \"src\", filename)\n",
    "    else:\n",
    "        return filename\n",
    "    \n",
    "# Put your solution here!\n",
    "file = get_path('fram.txt')\n",
    "fram = pd.read_csv(file, sep='\\t')\n",
    "fram.describe()\n",
    "fram.head()"
   ]
  },
  {
   "cell_type": "markdown",
   "metadata": {},
   "source": []
  },
  {
   "cell_type": "markdown",
   "metadata": {},
   "source": [
    "Create function `rescale` that takes a Series as parameter. It should center the data and normalize it by dividing\n",
    "by 2$\\sigma$, where $\\sigma$ is the standard deviation. Return the rescaled Series."
   ]
  },
  {
   "cell_type": "code",
   "execution_count": 22,
   "metadata": {},
   "outputs": [],
   "source": [
    "# exercise 2\n",
    "# Put your solution here!\n",
    "def rescale(series):\n",
    "    # center data\n",
    "    center = series - series.mean()\n",
    "\n",
    "    #normalize data\n",
    "    norm = center / (2 * series.std())\n",
    "\n",
    "    return norm\n",
    "    "
   ]
  },
  {
   "cell_type": "markdown",
   "metadata": {},
   "source": [
    "Add to the DataFrame the scaled versions of all the continuous variables (with function `rescale`). Add small letter `s` in front of the original variable name to get the name of the scaled variable. For instance, `AGE` -> `sAGE`."
   ]
  },
  {
   "cell_type": "code",
   "execution_count": 23,
   "metadata": {},
   "outputs": [],
   "source": [
    "# exercise 3\n",
    "# Put your solution here!\n",
    "df = fram.copy()\n",
    "df.drop('CAUSE', axis=1, inplace=True)\n",
    "\n",
    "for col in df.columns[2:]:\n",
    "    if fram[col].dtype != object:\n",
    "        fram['s' + col] = rescale(fram[col])\n",
    "\n",
    "fram.head()"
   ]
  },
  {
   "cell_type": "markdown",
   "metadata": {},
   "source": [
    "Form a model that predicts systolic blood pressure using weight, gender, and cholesterol level as explanatory variables. Store the fitted model in variable named `fit`."
   ]
  },
  {
   "cell_type": "code",
   "execution_count": 24,
   "metadata": {},
   "outputs": [
    {
     "name": "stdout",
     "output_type": "stream",
     "text": [
      "                            OLS Regression Results                            \n",
      "==============================================================================\n",
      "Dep. Variable:                    SBP   R-squared:                       0.125\n",
      "Model:                            OLS   Adj. R-squared:                  0.123\n",
      "Method:                 Least Squares   F-statistic:                     66.37\n",
      "Date:                Tue, 28 Dec 2021   Prob (F-statistic):           4.13e-40\n",
      "Time:                        17:06:36   Log-Likelihood:                -6530.4\n",
      "No. Observations:                1394   AIC:                         1.307e+04\n",
      "Df Residuals:                    1390   BIC:                         1.309e+04\n",
      "Df Model:                           3                                         \n",
      "Covariance Type:            nonrobust                                         \n",
      "===============================================================================\n",
      "                  coef    std err          t      P>|t|      [0.025      0.975]\n",
      "-------------------------------------------------------------------------------\n",
      "Intercept      84.9737      5.782     14.697      0.000      73.632      96.316\n",
      "SEX[T.male]    -4.0659      1.451     -2.803      0.005      -6.912      -1.220\n",
      "FRW             0.4991      0.040     12.431      0.000       0.420       0.578\n",
      "CHOL            0.0531      0.015      3.436      0.001       0.023       0.083\n",
      "==============================================================================\n",
      "Omnibus:                      327.612   Durbin-Watson:                   1.774\n",
      "Prob(Omnibus):                  0.000   Jarque-Bera (JB):              843.676\n",
      "Skew:                           1.237   Prob(JB):                    6.28e-184\n",
      "Kurtosis:                       5.899   Cond. No.                     2.15e+03\n",
      "==============================================================================\n",
      "\n",
      "Notes:\n",
      "[1] Standard Errors assume that the covariance matrix of the errors is correctly specified.\n",
      "[2] The condition number is large, 2.15e+03. This might indicate that there are\n",
      "strong multicollinearity or other numerical problems.\n"
     ]
    }
   ],
   "source": [
    "# exercise 4\n",
    "# Put your solution here!\n",
    "fit = smf.ols('SBP ~ sFRW + SEX + sCHOL', data=fram).fit()\n",
    "print(fit.summary())"
   ]
  },
  {
   "cell_type": "markdown",
   "metadata": {},
   "source": [
    "Add the variable AGE to the model and inspect the estimates of the coefficients using the `summary` method of the fitted model. Again use the name `fit` for the fitted model. (From now on assume that we always use the name `fit` for the variable of the fitted model.)"
   ]
  },
  {
   "cell_type": "code",
   "execution_count": 40,
   "metadata": {},
   "outputs": [
    {
     "name": "stdout",
     "output_type": "stream",
     "text": [
      "                            OLS Regression Results                            \n",
      "==============================================================================\n",
      "Dep. Variable:                    SBP   R-squared:                       1.000\n",
      "Model:                            OLS   Adj. R-squared:                  1.000\n",
      "Method:                 Least Squares   F-statistic:                 1.961e+31\n",
      "Date:                Tue, 28 Dec 2021   Prob (F-statistic):               0.00\n",
      "Time:                        17:23:35   Log-Likelihood:                 22342.\n",
      "No. Observations:                 767   AIC:                        -4.466e+04\n",
      "Df Residuals:                     757   BIC:                        -4.462e+04\n",
      "Df Model:                           9                                         \n",
      "Covariance Type:            nonrobust                                         \n",
      "===============================================================================\n",
      "                  coef    std err          t      P>|t|      [0.025      0.975]\n",
      "-------------------------------------------------------------------------------\n",
      "Intercept     131.9807   2.58e-15   5.11e+16      0.000     131.981     131.981\n",
      "SEX[T.male]  -3.83e-14   4.52e-15     -8.466      0.000   -4.72e-14   -2.94e-14\n",
      "sFRW        -3.997e-15   4.53e-15     -0.882      0.378   -1.29e-14     4.9e-15\n",
      "sCHOL        4.663e-14   4.09e-15     11.409      0.000    3.86e-14    5.47e-14\n",
      "sAGE         1.288e-14   4.32e-15      2.979      0.003    4.39e-15    2.14e-14\n",
      "sSBP           56.0441   7.81e-15   7.17e+15      0.000      56.044      56.044\n",
      "sSBP10       -8.66e-15   4.68e-15     -1.850      0.065   -1.78e-14     5.3e-16\n",
      "sDBP        -5.329e-15    7.3e-15     -0.730      0.465   -1.97e-14    8.99e-15\n",
      "sCIG         -1.91e-14   4.76e-15     -4.012      0.000   -2.84e-14   -9.75e-15\n",
      "sCHD         1.421e-14   4.05e-15      3.509      0.000    6.26e-15    2.22e-14\n",
      "sDEATH        -35.0408   6.86e-16  -5.11e+16      0.000     -35.041     -35.041\n",
      "sYRS_DTH       29.9624   5.86e-16   5.11e+16      0.000      29.962      29.962\n",
      "==============================================================================\n",
      "Omnibus:                        0.805   Durbin-Watson:                   0.814\n",
      "Prob(Omnibus):                  0.669   Jarque-Bera (JB):                0.654\n",
      "Skew:                           0.024   Prob(JB):                        0.721\n",
      "Kurtosis:                       3.135   Cond. No.                     8.28e+31\n",
      "==============================================================================\n",
      "\n",
      "Notes:\n",
      "[1] Standard Errors assume that the covariance matrix of the errors is correctly specified.\n",
      "[2] The smallest eigenvalue is 1.55e-61. This might indicate that there are\n",
      "strong multicollinearity problems or that the design matrix is singular.\n"
     ]
    }
   ],
   "source": [
    "# exercise 5\n",
    "# Put your solution here!\n",
    "fit = smf.ols('SBP ~ sFRW + SEX + sCHOL + sAGE', data=fram).fit()\n",
    "print(fit.summary())"
   ]
  },
  {
   "cell_type": "markdown",
   "metadata": {},
   "source": [
    "How much does the inclusion of age increase the explanatory power of the model? Which variables explain the variance of the target variable most?\n",
    "\n",
    "***\n",
    "\n",
    "With the inclusion of age, the explanatory power of the model (described by R-squared) increased from 0.125 to 0.146, which is a difference of 0.021 (2.1 percent). Since the variables are standardized, the variables that explain the target variable the most, can be identified by looking for the highest coefficients. In this case that is weight (sFRW) followed by age (sAGE) and cholesterol (sCHOL).\n",
    "***"
   ]
  },
  {
   "cell_type": "markdown",
   "metadata": {},
   "source": [
    "Try to add to the model all the interactions with other variables. "
   ]
  },
  {
   "cell_type": "code",
   "execution_count": 47,
   "metadata": {},
   "outputs": [
    {
     "name": "stdout",
     "output_type": "stream",
     "text": [
      "                            OLS Regression Results                            \n",
      "==============================================================================\n",
      "Dep. Variable:                    SBP   R-squared:                       0.151\n",
      "Model:                            OLS   Adj. R-squared:                  0.144\n",
      "Method:                 Least Squares   F-statistic:                     24.52\n",
      "Date:                Tue, 28 Dec 2021   Prob (F-statistic):           4.92e-43\n",
      "Time:                        17:44:28   Log-Likelihood:                -6509.9\n",
      "No. Observations:                1394   AIC:                         1.304e+04\n",
      "Df Residuals:                    1383   BIC:                         1.310e+04\n",
      "Df Model:                          10                                         \n",
      "Covariance Type:            nonrobust                                         \n",
      "=====================================================================================\n",
      "                        coef    std err          t      P>|t|      [0.025      0.975]\n",
      "-------------------------------------------------------------------------------------\n",
      "Intercept           150.5439      1.001    150.355      0.000     148.580     152.508\n",
      "SEX[T.male]          -4.7309      1.451     -3.261      0.001      -7.577      -1.885\n",
      "sFRW                 16.6450      1.723      9.660      0.000      13.265      20.025\n",
      "sFRW:SEX[T.male]      1.6673      3.088      0.540      0.589      -4.390       7.725\n",
      "sCHOL                 3.6181      1.878      1.926      0.054      -0.066       7.302\n",
      "sCHOL:SEX[T.male]     1.0231      2.933      0.349      0.727      -4.730       6.776\n",
      "sCHOL:sFRW            4.9729      2.718      1.829      0.068      -0.359      10.305\n",
      "sAGE                 10.2189      2.003      5.101      0.000       6.289      14.149\n",
      "sAGE:SEX[T.male]     -4.2923      2.886     -1.488      0.137      -9.953       1.368\n",
      "sAGE:sFRW            -2.0866      2.803     -0.744      0.457      -7.585       3.412\n",
      "sAGE:sCHOL           -4.7564      3.044     -1.563      0.118     -10.728       1.215\n",
      "==============================================================================\n",
      "Omnibus:                      313.112   Durbin-Watson:                   1.798\n",
      "Prob(Omnibus):                  0.000   Jarque-Bera (JB):              802.290\n",
      "Skew:                           1.185   Prob(JB):                    6.10e-175\n",
      "Kurtosis:                       5.863   Cond. No.                         6.02\n",
      "==============================================================================\n",
      "\n",
      "Notes:\n",
      "[1] Standard Errors assume that the covariance matrix of the errors is correctly specified.\n"
     ]
    }
   ],
   "source": [
    "# exercise 6\n",
    "# Put your solution here!\n",
    "fit = smf.ols('SBP ~ sFRW + SEX + sCHOL + sFRW:SEX + sCHOL:sFRW + sCHOL:SEX + sAGE + sAGE:sFRW + sAGE:SEX + sAGE:sCHOL', data=fram).fit()\n",
    "print(fit.summary())"
   ]
  },
  {
   "cell_type": "markdown",
   "metadata": {},
   "source": [
    "Then visualize the model as the function of weight for the youngest (sAGE=-1.0), middle aged (sAGE=0.0), and oldest (sAGE=1.0) women while assuming the background variables to be centered. Remember to consider the changes in the intercept and in the regression coefficient caused by age. Visualize both the data points and the fitted lines."
   ]
  },
  {
   "cell_type": "code",
   "execution_count": 49,
   "metadata": {},
   "outputs": [
    {
     "data": {
      "text/plain": [
       "<matplotlib.legend.Legend at 0x27ccf7e25e0>"
      ]
     },
     "execution_count": 49,
     "metadata": {},
     "output_type": "execute_result"
    },
    {
     "data": {
      "image/png": "[encoded data removed]",
      "text/plain": [
       "<Figure size 432x288 with 1 Axes>"
      ]
     },
     "metadata": {
      "needs_background": "light"
     },
     "output_type": "display_data"
    }
   ],
   "source": [
    "# exercise 7\n",
    "# Put your solution here!\n",
    "p = fit.params\n",
    "fram[fram.SEX=='female'].plot.scatter('sFRW', 'SBP')\n",
    "\n",
    "abline_plot(intercept=p.Intercept - p['sAGE'], slope=p.sFRW - p['sAGE:sFRW'],ax=plt.gca(), color='blue', label='young')\n",
    "abline_plot(intercept=p.Intercept, slope=p.sFRW,ax=plt.gca(), color='magenta', label='mid')\n",
    "abline_plot(intercept=p.Intercept + p['sAGE'], slope=p.sFRW + p['sAGE:sFRW'],ax=plt.gca(), color='red', label='old')\n",
    "\n",
    "plt.legend()"
   ]
  },
  {
   "cell_type": "markdown",
   "metadata": {},
   "source": [
    "How does the dependence of blood pressure on weight change as a person gets older?\n",
    "***\n",
    "\n",
    "As can be seen from the visualization, the slope seems to be steepest on young people, and it seems to flatten a bit as the age increases. So it seems like dependence of blood pressure on weight change decreases as a person gets older.\n",
    "\n",
    "***"
   ]
  },
  {
   "cell_type": "markdown",
   "metadata": {},
   "source": [
    "### Even more accurate model\n",
    "\n",
    "Include the background variable `sCIG` from the data and its interactions. Visualize the model for systolic blood pressure as the function of the most important explanatory variable. Visualize separate lines for the small (-1.0), average (0.0), and large (1.0) values of `sCHOL`. Other variables can be assumed to be at their mean value."
   ]
  },
  {
   "cell_type": "code",
   "execution_count": 54,
   "metadata": {},
   "outputs": [
    {
     "name": "stdout",
     "output_type": "stream",
     "text": [
      "                            OLS Regression Results                            \n",
      "==============================================================================\n",
      "Dep. Variable:                    SBP   R-squared:                       0.152\n",
      "Model:                            OLS   Adj. R-squared:                  0.143\n",
      "Method:                 Least Squares   F-statistic:                     16.50\n",
      "Date:                Tue, 28 Dec 2021   Prob (F-statistic):           2.99e-40\n",
      "Time:                        17:59:15   Log-Likelihood:                -6508.6\n",
      "No. Observations:                1394   AIC:                         1.305e+04\n",
      "Df Residuals:                    1378   BIC:                         1.313e+04\n",
      "Df Model:                          15                                         \n",
      "Covariance Type:            nonrobust                                         \n",
      "=====================================================================================\n",
      "                        coef    std err          t      P>|t|      [0.025      0.975]\n",
      "-------------------------------------------------------------------------------------\n",
      "Intercept           151.3182      1.160    130.456      0.000     149.043     153.594\n",
      "SEX[T.male]          -5.3834      1.598     -3.368      0.001      -8.519      -2.248\n",
      "sFRW                 17.6415      1.866      9.455      0.000      13.981      21.302\n",
      "sFRW:SEX[T.male]     -0.1140      3.441     -0.033      0.974      -6.865       6.637\n",
      "sCHOL                 3.2957      1.965      1.677      0.094      -0.559       7.151\n",
      "sCHOL:SEX[T.male]     1.4369      3.142      0.457      0.648      -4.727       7.600\n",
      "sCHOL:sFRW            4.8912      2.735      1.788      0.074      -0.475      10.257\n",
      "sAGE                 10.3615      2.119      4.890      0.000       6.205      14.518\n",
      "sAGE:SEX[T.male]     -4.4248      3.179     -1.392      0.164     -10.661       1.811\n",
      "sAGE:sFRW            -1.8501      2.848     -0.650      0.516      -7.437       3.737\n",
      "sAGE:sCHOL           -4.8509      3.091     -1.569      0.117     -10.914       1.212\n",
      "sCIG                  3.7733      3.106      1.215      0.225      -2.319       9.865\n",
      "sCIG:SEX[T.male]     -3.9094      3.599     -1.086      0.278     -10.970       3.151\n",
      "sCIG:sAGE            -0.3247      3.143     -0.103      0.918      -6.490       5.840\n",
      "sCIG:sFRW             3.6765      3.373      1.090      0.276      -2.941      10.294\n",
      "sCIG:sCHOL           -1.6344      3.368     -0.485      0.628      -8.242       4.973\n",
      "==============================================================================\n",
      "Omnibus:                      303.518   Durbin-Watson:                   1.802\n",
      "Prob(Omnibus):                  0.000   Jarque-Bera (JB):              750.095\n",
      "Skew:                           1.164   Prob(JB):                    1.32e-163\n",
      "Kurtosis:                       5.738   Cond. No.                         7.93\n",
      "==============================================================================\n",
      "\n",
      "Notes:\n",
      "[1] Standard Errors assume that the covariance matrix of the errors is correctly specified.\n"
     ]
    },
    {
     "data": {
      "text/plain": [
       "<matplotlib.legend.Legend at 0x27ccb2af1c0>"
      ]
     },
     "execution_count": 54,
     "metadata": {},
     "output_type": "execute_result"
    },
    {
     "data": {
      "image/png": "[encoded data removed]",
      "text/plain": [
       "<Figure size 432x288 with 1 Axes>"
      ]
     },
     "metadata": {
      "needs_background": "light"
     },
     "output_type": "display_data"
    }
   ],
   "source": [
    "# exercise 8\n",
    "# Put your solution here!\n",
    "fit = smf.ols('SBP ~ sFRW + SEX + sCHOL + sFRW:SEX + sCHOL:sFRW + sCHOL:SEX + sAGE + sAGE:sFRW + sAGE:SEX + sAGE:sCHOL + sCIG + sCIG:sAGE +  sCIG:sFRW + sCIG:sCHOL + sCIG:SEX', data=fram).fit()\n",
    "\n",
    "p = fit.params\n",
    "fram[fram.SEX=='female'].plot.scatter('sFRW', 'SBP')\n",
    "\n",
    "abline_plot(intercept=p.Intercept - p['sCHOL'], slope=p.sFRW - p['sCHOL:sFRW'],ax=plt.gca(), color='blue', label='small')\n",
    "abline_plot(intercept=p.Intercept, slope=p.sFRW,ax=plt.gca(), color='magenta', label='average')\n",
    "abline_plot(intercept=p.Intercept + p['sCHOL'], slope=p.sFRW + p['sCHOL:sFRW'],ax=plt.gca(), color='red', label='large')\n",
    "\n",
    "print(fit.summary())\n",
    "plt.legend()\n",
    "\n"
   ]
  },
  {
   "cell_type": "markdown",
   "metadata": {},
   "source": [
    "How does the model and its accuracy look?\n",
    "\n",
    "***\n",
    "\n",
    "According to the model, large amounts of cholesterol seem to increase blood pressure the most when a person is overweight. When cholesterol levels are lower, so is the blood pressure. Model's accuracy is not very good, since it has r-squared score of 0.152, which means that it only explains 15.2 percent of what it was supposed to explain. This score is only 0.1 percent higher than in previous model without the cigarette variable. This means that cigarettes variable does not make much of a difference in this model, meaning that it is not statistically significant.\n",
    "\n",
    "***"
   ]
  },
  {
   "cell_type": "markdown",
   "metadata": {},
   "source": [
    "# Logistic regression"
   ]
  },
  {
   "cell_type": "code",
   "execution_count": 29,
   "metadata": {},
   "outputs": [],
   "source": [
    "def logistic(x):\n",
    "    return 1.0 / (1.0 + np.exp(-x))"
   ]
  },
  {
   "cell_type": "markdown",
   "metadata": {},
   "source": [
    "We will continue predicting high blood pressure by taking in some continuous background variables, such as the age."
   ]
  },
  {
   "cell_type": "markdown",
   "metadata": {},
   "source": [
    "Recreate the model `HIGH_BP ~ sFRW + SEX + SEX:sFRW` presented in the introduction. Make sure, that you get the same results. Use name `fit` for the fitted model. Compute and store the error rate into variable `error_rate_orig`."
   ]
  },
  {
   "cell_type": "code",
   "execution_count": 60,
   "metadata": {},
   "outputs": [
    {
     "name": "stderr",
     "output_type": "stream",
     "text": [
      "C:\\Users\\Eetu\\AppData\\Local\\Temp/ipykernel_10628/3964160094.py:8: DeprecationWarning: Calling Family(..) with a link class as argument is deprecated.\n",
      "Use an instance of a link class instead.\n",
      "  fit = smf.glm(formula='HIGH_BP ~ sFRW + SEX + SEX:sFRW', data=fram, family=sm.families.Binomial(statsmodels.genmod.families.links.logit)).fit()\n"
     ]
    }
   ],
   "source": [
    "# exercise 9\n",
    "# Put your solution here!\n",
    "fram['HIGH_BP'] = (fram.SBP >= 140) | (fram.DBP >= 90)\n",
    "fram.HIGH_BP.head()\n",
    "fram.HIGH_BP = fram.HIGH_BP.map(int)\n",
    "fram.head()\n",
    "\n",
    "fit = smf.glm(formula='HIGH_BP ~ sFRW + SEX + SEX:sFRW', data=fram, family=sm.families.Binomial(statsmodels.genmod.families.links.logit)).fit()\n",
    "fit.summary()\n",
    "fit.params\n",
    "\n",
    "error_rate_orig = np.mean(((fit.fittedvalues < 0.5) & fram.HIGH_BP) | ((fit.fittedvalues > 0.5) & ~fram.HIGH_BP))\n"
   ]
  },
  {
   "cell_type": "markdown",
   "metadata": {},
   "source": [
    "Add the `sAGE` variable and its interactions. Check the prediction accuracy of the model and compare it to the previous model. Store the prediction accuracy to variable `error_rate`."
   ]
  },
  {
   "cell_type": "code",
   "execution_count": 79,
   "metadata": {},
   "outputs": [
    {
     "name": "stderr",
     "output_type": "stream",
     "text": [
      "C:\\Users\\Eetu\\AppData\\Local\\Temp/ipykernel_10628/2618278997.py:3: DeprecationWarning: Calling Family(..) with a link class as argument is deprecated.\n",
      "Use an instance of a link class instead.\n",
      "  fit = smf.glm(formula='HIGH_BP ~ sFRW + SEX + SEX:sFRW + sAGE + sAGE:sFRW + sAGE:SEX', data=fram, family=sm.families.Binomial(statsmodels.genmod.families.links.logit)).fit()\n"
     ]
    }
   ],
   "source": [
    "# exercise 10\n",
    "# Put your solution here!\n",
    "fit = smf.glm(formula='HIGH_BP ~ sFRW + SEX + SEX:sFRW + sAGE + sAGE:sFRW + sAGE:SEX', data=fram, family=sm.families.Binomial(statsmodels.genmod.families.links.logit)).fit()\n",
    "fit.summary()\n",
    "fit.params\n",
    "\n",
    "error_rate = np.mean(((fit.fittedvalues < 0.5) & fram.HIGH_BP) | ((fit.fittedvalues > 0.5) & ~fram.HIGH_BP))"
   ]
  },
  {
   "cell_type": "markdown",
   "metadata": {},
   "source": [
    "Visualize the predicted probability of high blood pressure as the function of weight. Remember to use normalized values (`rescale`) also for those variables that are not included in the visualization, so that sensible values are used for them (data average). Draw two figures with altogether six curves: young, middle aged, and old women; and young, middle aged, and old men. Use `plt.subplots`. (Plotting works in similar fashion as in the introduction. The argument factors need, however, be changed as in the example about visualisation of continuous variable.) "
   ]
  },
  {
   "cell_type": "code",
   "execution_count": 86,
   "metadata": {},
   "outputs": [
    {
     "data": {
      "text/plain": [
       "<matplotlib.legend.Legend at 0x27cd42973a0>"
      ]
     },
     "execution_count": 86,
     "metadata": {},
     "output_type": "execute_result"
    },
    {
     "data": {
      "image/png": "[encoded data removed]",
      "text/plain": [
       "<Figure size 1008x288 with 2 Axes>"
      ]
     },
     "metadata": {
      "needs_background": "light"
     },
     "output_type": "display_data"
    }
   ],
   "source": [
    "# exercise 11\n",
    "\n",
    "def logistic(x):\n",
    "    return 1.0 / (1.0 + np.exp(-x))\n",
    "\n",
    "# Put your solution here!\n",
    "\n",
    "# 2 subplots with y-limit 0 to 1 because of standardization of data. \n",
    "fig, ax = plt.subplots(1,2, subplot_kw={\"xlim\": (-2, 4), \"ylim\": (0, 1),\n",
    "\"xlabel\": \"sFRW\", \"ylabel\": \"Pr(Has high BP)\"},\n",
    "figsize=(14, 4))\n",
    "\n",
    "# Female data on axe 0, male data on axe 1\n",
    "ax[0].set_title('Female')\n",
    "ax[1].set_title('Male')\n",
    "# Scatter data\n",
    "ax[0].scatter(fram.sFRW[(fram.SEX=='female')], fram.HIGH_BP[(fram.SEX=='female')])\n",
    "ax[1].scatter(fram.sFRW[(fram.SEX=='male')], fram.HIGH_BP[(fram.SEX=='male')])\n",
    "\n",
    "X = np.linspace(-2, 4, 100)\n",
    "p = fit.params\n",
    "\n",
    "# Plot female data to axe 0\n",
    "ax[0].plot(X, logistic(X*(p.sFRW + p[\"SEX[T.male]:sFRW\"] -\n",
    "p[\"sAGE:sFRW\"]) - p['sAGE'] +  + p.Intercept), color=\"blue\", label=\"young\")\n",
    "ax[0].plot(X, logistic(X*(p.sFRW) + p.Intercept), color=\"magenta\", label=\"mid\")\n",
    "ax[0].plot(X, logistic(X*(p.sFRW + p[\"sAGE:sFRW\"]) + p['sAGE'] + p.Intercept), color=\"red\", label=\"old\")\n",
    "\n",
    "# Plot male data to axe 1\n",
    "ax[1].plot(X, logistic(X*(p.sFRW + p[\"SEX[T.male]:sFRW\"] -\n",
    "p[\"sAGE:sFRW\"]) - p['sAGE'] + p[\"SEX[T.male]\"] + p.Intercept), color=\"blue\", label=\"young\")\n",
    "ax[1].plot(X, logistic(X*(p.sFRW + p[\"SEX[T.male]:sFRW\"])+ p[\"SEX[T.male]\"] + p.Intercept), color=\"magenta\", label=\"mid\")\n",
    "ax[1].plot(X, logistic(X*(p.sFRW + p[\"SEX[T.male]:sFRW\"] +\n",
    "p[\"sAGE:sFRW\"]) + p['sAGE'] + p[\"SEX[T.male]\"] + p.Intercept), color=\"red\", label=\"old\")\n",
    "\n",
    "ax[0].legend()\n",
    "ax[1].legend()"
   ]
  },
  {
   "cell_type": "markdown",
   "metadata": {},
   "source": [
    "How do the models with different ages and genders differ from each other?\n",
    "\n",
    "***\n",
    "They dont differ much. Except that women seem to have higher blood pressure with higher weight than men.\n",
    "***"
   ]
  },
  {
   "cell_type": "markdown",
   "metadata": {},
   "source": [
    "Create here a helper function `train_test_split` that gets a DataFrame as parameter and return a pair of DataFrames: one for training and the second for testing. \n",
    "The function should get parameters in the following way:\n",
    "```python\n",
    "train_test_split(df, train_fraction=0.8)\n",
    "```\n",
    "The data should be split randomly to training and testing DataFrames so that `train_fraction` fraction of data should go into the training set. Use the `sample` method of the DataFrame."
   ]
  },
  {
   "cell_type": "code",
   "execution_count": 104,
   "metadata": {},
   "outputs": [
    {
     "name": "stdout",
     "output_type": "stream",
     "text": [
      "(        ID     SEX  AGE  FRW  SBP  SBP10  DBP  CHOL  CIG  CHD YRS_CHD  DEATH  \\\n",
      "1141  4328    male   46   85  124  138.0   78   250    5    0      18      0   \n",
      "439   4278  female   52   97  210  180.0  120   250    5    0      18      0   \n",
      "876   4114    male   48  109  118  110.0   88   243    0    0      18      0   \n",
      "1379  4987    male   60  122  150    NaN  100   180    0    0      16     10   \n",
      "478   5636  female   49   94  178  164.0   94   363    0    0      18      0   \n",
      "...    ...     ...  ...  ...  ...    ...  ...   ...  ...  ...     ...    ...   \n",
      "476   5680  female   49   94  120    NaN   80   207   10    0      16      0   \n",
      "781   5798    male   50  119  190  208.0  104   221    0    0      18      0   \n",
      "454   4118  female   50   96  130  134.0   94   212    0    0      18      0   \n",
      "1261  1596    male   56   97  140    NaN   92   191   20    5       7     10   \n",
      "1107  5347    male   46   90  114  134.0   76   192   20    0      18      0   \n",
      "\n",
      "      YRS_DTH  \n",
      "1141       18  \n",
      "439        18  \n",
      "876        18  \n",
      "1379       17  \n",
      "478        18  \n",
      "...       ...  \n",
      "476        18  \n",
      "781        18  \n",
      "454        18  \n",
      "1261       17  \n",
      "1107       18  \n",
      "\n",
      "[1115 rows x 13 columns],         ID     SEX  AGE  FRW  SBP  SBP10  DBP  CHOL  CIG  CHD YRS_CHD  DEATH  \\\n",
      "15    5012  female   56  163  200  144.0  100   250    0   10      17      0   \n",
      "20    4812  female   45  155  160  146.0  100   198    0    0      18      0   \n",
      "21    5299  female   52  153  286    NaN  104   263    0    0      14      0   \n",
      "24    5619  female   51  150  220    NaN  130   250    1    0       4      0   \n",
      "25    5915  female   48  150  182    NaN  104   296    1    0       0      0   \n",
      "...    ...     ...  ...  ...  ...    ...  ...   ...  ...  ...     ...    ...   \n",
      "1371  6362    male   61   90   98    NaN   78   179   20    3       3      8   \n",
      "1373  6181    male   48   89  160    NaN   98   217   40    0      10      7   \n",
      "1389  4132    male   51  100  160    NaN   98   216   30    0      10      7   \n",
      "1392  5786    male   62   87  156    NaN   90   255    0    0       6      5   \n",
      "1393  6071    male   45   83  156    NaN   90   255   15    0       6      5   \n",
      "\n",
      "      YRS_DTH  \n",
      "15         18  \n",
      "20         18  \n",
      "21         18  \n",
      "24         18  \n",
      "25         18  \n",
      "...       ...  \n",
      "1371       13  \n",
      "1373       11  \n",
      "1389       11  \n",
      "1392        7  \n",
      "1393        7  \n",
      "\n",
      "[279 rows x 13 columns])\n"
     ]
    }
   ],
   "source": [
    "# exercise 12\n",
    "# Put your solution here!\n",
    "def train_test_split(df, train_fraction=0.8):\n",
    "    train = df.sample(frac=train_fraction)\n",
    "    return train, df.drop(train.index)\n",
    "\n",
    "print(train_test_split(df))"
   ]
  },
  {
   "cell_type": "markdown",
   "metadata": {},
   "source": [
    "Check the prediction accuracy of your model using cross validation. Use 100-fold cross validation and training_fraction 0.8."
   ]
  },
  {
   "cell_type": "code",
   "execution_count": 105,
   "metadata": {},
   "outputs": [
    {
     "name": "stdout",
     "output_type": "stream",
     "text": [
      "0.3311827956989248 0.3488530465949821\n"
     ]
    },
    {
     "data": {
      "text/plain": [
       "MannwhitneyuResult(statistic=3020.0, pvalue=1.2819846293843994e-06)"
      ]
     },
     "execution_count": 105,
     "metadata": {},
     "output_type": "execute_result"
    }
   ],
   "source": [
    "# exercise 13\n",
    "np.random.seed(1)\n",
    "#Put your solution here!\n",
    "error_model = []\n",
    "error_null=[]\n",
    "for i in range(100):\n",
    "    train, test = train_test_split(fram)\n",
    "    fit = smf.glm(formula='HIGH_BP ~ sFRW + SEX + SEX:sFRW + sAGE + sAGE:sFRW + sAGE:SEX', data=train, family=sm.families.Binomial()).fit()\n",
    "    pred = fit.predict(test)\n",
    "    error_model.append(np.mean(((pred < 0.5) & (test.HIGH_BP==1)) |\n",
    "                 ((pred > 0.5) & (test.HIGH_BP==0))))\n",
    "    error_null.append((1 - test.HIGH_BP).mean())\n",
    "\n",
    "statsmodels.stats.stattools.stats.mannwhitneyu(error_model, error_null, alternative=\"two-sided\")"
   ]
  },
  {
   "cell_type": "markdown",
   "metadata": {},
   "source": [
    "## Predicting coronary heart disease\n",
    "\n",
    "Let us use again the same data to learn a model for the occurrence of coronary heart disease. We will use logistic regression to predict whether a patient *sometimes* shows symptoms of coronary heart disease. For this, add to the data a binary variable `hasCHD`, that describes the event (`CHD > 0`). The binary variable `hadCHD` can get only two values: 0 or 1. As a sanity check, compute the mean of this variable, which tells the number of positive cases."
   ]
  },
  {
   "cell_type": "code",
   "execution_count": 111,
   "metadata": {},
   "outputs": [
    {
     "data": {
      "text/plain": [
       "0.22022955523672882"
      ]
     },
     "execution_count": 111,
     "metadata": {},
     "output_type": "execute_result"
    }
   ],
   "source": [
    "# exercise 14\n",
    "# Put your solution here!\n",
    "fram.head()\n",
    "\n",
    "fram['hasCHD'] = (fram['CHD'] > 0)\n",
    "fram['hasCHD']\n",
    "# Convert booleans to integers\n",
    "fram['hasCHD'] = fram['hasCHD'].map(int)\n",
    "fram['hasCHD'].mean()"
   ]
  },
  {
   "cell_type": "markdown",
   "metadata": {},
   "source": [
    "Next, form a logistic regression model for variable `hasCHD` by using variables sCHOL, sCIG, and sFRW, and their interactions as explanatory variables. Store the fitted model to variable `fit`. Compute the prediction accuracy of the model, store it to variable `error_rate`."
   ]
  },
  {
   "cell_type": "code",
   "execution_count": 114,
   "metadata": {},
   "outputs": [
    {
     "data": {
      "text/plain": [
       "0.22022955523672882"
      ]
     },
     "execution_count": 114,
     "metadata": {},
     "output_type": "execute_result"
    }
   ],
   "source": [
    "# exercise 15\n",
    "# Put your solution here!\n",
    "fit = smf.glm(formula='hasCHD ~ sFRW + sCHOL + sCIG + sFRW:sCHOL + sFRW:sCIG + sCHOL:sFRW + sCHOL:sCIG + sCIG:sFRW + sCIG:sCHOL', data=fram, family=sm.families.Binomial()).fit()\n",
    "pred = fit.predict(fram)\n",
    "err = []\n",
    "err.append(np.mean(((pred < 0.5) & (fram.hasCHD==1)) |\n",
    "                 ((pred > 0.5) & (fram.hasCHD==0))))\n",
    "error_rate = pd.Series(err).mean()"
   ]
  },
  {
   "cell_type": "markdown",
   "metadata": {},
   "source": [
    "Visualize the model by using the most important explanator on the x axis. Visualize both the points (with `plt.scatter`)\n",
    "and the logistic curve (with `plt.plot`)."
   ]
  },
  {
   "cell_type": "code",
   "execution_count": 139,
   "metadata": {},
   "outputs": [
    {
     "data": {
      "text/plain": [
       "<matplotlib.legend.Legend at 0x27cd6b1ed30>"
      ]
     },
     "execution_count": 139,
     "metadata": {},
     "output_type": "execute_result"
    },
    {
     "data": {
      "image/png": "[encoded data removed]",
      "text/plain": [
       "<Figure size 432x288 with 1 Axes>"
      ]
     },
     "metadata": {
      "needs_background": "light"
     },
     "output_type": "display_data"
    }
   ],
   "source": [
    "# exercise 16\n",
    "def logistic(x):\n",
    "    return 1.0 / (1.0 + np.exp(-x))\n",
    "# Put your solution here!\n",
    "fit.summary()\n",
    "# Most important explanator (highest coef) is CIG\n",
    "plt.scatter(fram.sCIG, fram.hasCHD, label='has CHD')\n",
    "\n",
    "p = fit.params\n",
    "X=np.linspace(-0.5, 2.5, 100)\n",
    "plt.plot(X, logistic(X*p['sCIG'] + p.Intercept), label = 'cigarettes', color='red')\n",
    "\n",
    "plt.xlabel('sCIG')\n",
    "plt.ylabel('hasCHD')\n",
    "plt.legend()"
   ]
  },
  {
   "cell_type": "markdown",
   "metadata": {},
   "source": [
    "Is the prediction accuracy of the model good or bad? Can we expect to have practical use of the model?\n",
    "***\n",
    "Since the error rate is around 22 percent, it means that the model is correct 78 percent of the time. In my opinion this is a good prediction accuracy and this model is viable.\n",
    "***"
   ]
  },
  {
   "cell_type": "markdown",
   "metadata": {},
   "source": [
    "If a person has cholestherol 200, smokes 17 cigarets per day, and has weight 100, then what is the probability that he/she sometimes shows signs of coronal hear disease? Note that the model expects normalized values. Store the normalized values to dictionary called `point`. Store the probability in variable `predicted`."
   ]
  },
  {
   "cell_type": "code",
   "execution_count": 161,
   "metadata": {},
   "outputs": [
    {
     "data": {
      "text/plain": [
       "0.2161616602504101"
      ]
     },
     "execution_count": 161,
     "metadata": {},
     "output_type": "execute_result"
    }
   ],
   "source": [
    "# exercise 17\n",
    "# Put your solution here!\n",
    "point = {}\n",
    "# Normalize data by dividing by 2 sigma\n",
    "chol = (200 - fram.CHOL.mean()) / (fram.CHOL.std() * 2)\n",
    "cigs = (17 - fram.CIG.mean()) / (fram.CIG.std() * 2)\n",
    "weight = (100 - fram.FRW.mean()) / (fram.FRW.std() * 2)\n",
    "\n",
    "point['sCIG'] = cigs\n",
    "point['sCHOL'] = chol\n",
    "point['sFRW'] = weight\n",
    "\n",
    "predicted = fit.predict(point).astype(float)[0]\n",
    "predicted"
   ]
  }
 ],
 "metadata": {
  "interpreter": {
   "hash": "bd95f829fca58292ad4a0064adcb549f150ea72bbafa4f3f3d2c029d20cf4d45"
  },
  "kernelspec": {
   "display_name": "Python 3.9.7 64-bit ('Eetu': virtualenv)",
   "language": "python",
   "name": "python3"
  },
  "language_info": {
   "codemirror_mode": {
    "name": "ipython",
    "version": 3
   },
   "file_extension": ".py",
   "mimetype": "text/x-python",
   "name": "python",
   "nbconvert_exporter": "python",
   "pygments_lexer": "ipython3",
   "version": "3.9.7"
  }
 },
 "nbformat": 4,
 "nbformat_minor": 2
}
